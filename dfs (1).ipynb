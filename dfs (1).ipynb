{
 "cells": [
  {
   "cell_type": "code",
   "execution_count": 15,
   "metadata": {},
   "outputs": [],
   "source": [
    "graph = { 1 : [2],\n",
    "          2 : [3, 5],\n",
    "          3 : [1, 2, 4, 5],\n",
    "          4 : [3],\n",
    "          5 : [3, 2],\n",
    "          6 : []\n",
    "        }"
   ]
  },
  {
   "cell_type": "code",
   "execution_count": 16,
   "metadata": {},
   "outputs": [
    {
     "name": "stdout",
     "output_type": "stream",
     "text": [
      "[(1, 2), (2, 3), (2, 5), (3, 1), (3, 2), (3, 4), (3, 5), (4, 3), (5, 3), (5, 2)]\n"
     ]
    }
   ],
   "source": [
    "def generate_edges(graph):\n",
    "    edges = []\n",
    "    for node in graph:\n",
    "        for neighbour in graph[node]:\n",
    "            edges.append((node, neighbour))\n",
    "\n",
    "    return edges\n",
    "\n",
    "print(generate_edges(graph))"
   ]
  },
  {
   "cell_type": "code",
   "execution_count": 31,
   "metadata": {},
   "outputs": [
    {
     "name": "stdout",
     "output_type": "stream",
     "text": [
      "0\n",
      "1\n",
      "4\n",
      "5\n",
      "3\n",
      "3\n",
      "2\n"
     ]
    },
    {
     "data": {
      "text/plain": [
       "{'0', '1', '2', '3', '4', '5'}"
      ]
     },
     "execution_count": 31,
     "metadata": {},
     "output_type": "execute_result"
    }
   ],
   "source": [
    "def dfs(graph, start, visited=None):\n",
    "    if visited is None:\n",
    "        visited = set()\n",
    "    visited.add(start)\n",
    "    print(start)\n",
    "    for next in graph[start] - visited:\n",
    "        dfs(graph, next, visited)\n",
    "    return visited\n",
    "graph = {'0': set(['1', '2']),\n",
    "         '1': set(['0', '3', '4']),\n",
    "         '2': set(['0','3']),\n",
    "         '3': set(['1']),\n",
    "         '4': set(['3', '5']),\n",
    "         '5': set(['4']),\n",
    "         '6': set(['4','5'])}\n",
    "dfs(graph, '0')"
   ]
  },
  {
   "cell_type": "code",
   "execution_count": 30,
   "metadata": {},
   "outputs": [
    {
     "name": "stdout",
     "output_type": "stream",
     "text": [
      "Initial stack\n",
      "['0', '1', '2', '3', '4', '5', '6']\n",
      "\n",
      "Elements poped from Graph:\n",
      "6\n",
      "5\n",
      "4\n",
      "\n",
      " Graph after elements are poped:\n",
      "['0', '1', '2', '3']\n"
     ]
    }
   ],
   "source": [
    "graph = [] # grapg is a stack\n",
    "  \n",
    "# append() function to push \n",
    "# element in the stack \n",
    "graph.append('0') \n",
    "graph.append('1') \n",
    "graph.append('2')\n",
    "graph.append('3')\n",
    "graph.append('4')\n",
    "graph.append('5')\n",
    "graph.append('6')\n",
    "  \n",
    "print('Initial stack') \n",
    "print(graph) \n",
    "  \n",
    "# pop() fucntion to pop \n",
    "# element from stack in  \n",
    "# LIFO order \n",
    "print('\\nElements poped from Graph:') \n",
    "print(graph.pop()) \n",
    "print(graph.pop()) \n",
    "print(graph.pop()) \n",
    "  \n",
    "print('\\n Graph after elements are poped:') \n",
    "print(graph) "
   ]
  },
  {
   "cell_type": "code",
   "execution_count": null,
   "metadata": {},
   "outputs": [],
   "source": []
  }
 ],
 "metadata": {
  "kernelspec": {
   "display_name": "Python 3",
   "language": "python",
   "name": "python3"
  },
  "language_info": {
   "codemirror_mode": {
    "name": "ipython",
    "version": 3
   },
   "file_extension": ".py",
   "mimetype": "text/x-python",
   "name": "python",
   "nbconvert_exporter": "python",
   "pygments_lexer": "ipython3",
   "version": "3.7.3"
  }
 },
 "nbformat": 4,
 "nbformat_minor": 2
}
